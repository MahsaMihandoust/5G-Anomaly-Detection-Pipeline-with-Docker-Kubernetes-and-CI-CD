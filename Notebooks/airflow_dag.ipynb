{
 "cells": [
  {
   "cell_type": "code",
   "execution_count": null,
   "id": "06a71ee3",
   "metadata": {},
   "outputs": [],
   "source": [
    "# Airflow DAG for 5G Anomaly Detection Pipeline\n",
    "from airflow import DAG\n",
    "from airflow.operators.bash import BashOperator\n",
    "from datetime import datetime\n",
    "\n",
    "with DAG('anomaly_detection_pipeline', start_date=datetime(2024, 1, 1), schedule_interval='@daily', catchup=False) as dag:\n",
    "    etl_task = BashOperator(\n",
    "        task_id='run_etl',\n",
    "        bash_command='python3 /app/etl.py'\n",
    "    )\n",
    "\n",
    "    ml_task = BashOperator(\n",
    "        task_id='run_ml_model',\n",
    "        bash_command='python3 /app/ml_model.py'\n",
    "    )\n",
    "\n",
    "    etl_task >> ml_task"
   ]
  }
 ],
 "metadata": {},
 "nbformat": 4,
 "nbformat_minor": 5
}