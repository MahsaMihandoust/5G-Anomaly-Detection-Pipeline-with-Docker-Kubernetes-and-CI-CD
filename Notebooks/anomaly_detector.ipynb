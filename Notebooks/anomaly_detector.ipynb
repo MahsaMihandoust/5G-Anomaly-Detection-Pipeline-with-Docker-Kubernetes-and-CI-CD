{
 "cells": [
  {
   "cell_type": "code",
   "source": [
    "import pandas as pd\n",
    "from sklearn.ensemble import IsolationForest\n",
    "import joblib\n",
    "import boto3\n",
    "import io\n",
    "\n",
    "s3 = boto3.client('s3')\n",
    "obj = s3.get_object(Bucket='your-bucket-name', Key='clean/kpis_cleaned.parquet')\n",
    "df = pd.read_parquet(io.BytesIO(obj['Body'].read()))\n",
    "\n",
    "model = IsolationForest()\n",
    "df['anomaly'] = model.fit_predict(df.drop(columns=['timestamp']))\n",
    "\n",
    "df.to_csv('anomaly_results.csv', index=False)\n",
    "s3.upload_file('anomaly_results.csv', 'your-bucket-name', 'results/anomaly_results.csv')"
   ],
   "metadata": {},
   "execution_count": null,
   "outputs": []
  }
 ],
 "metadata": {},
 "nbformat": 4,
 "nbformat_minor": 2
}