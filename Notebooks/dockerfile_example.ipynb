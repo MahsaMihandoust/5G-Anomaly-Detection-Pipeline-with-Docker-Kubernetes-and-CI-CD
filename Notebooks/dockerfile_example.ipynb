{
 "cells": [
  {
   "cell_type": "code",
   "execution_count": null,
   "id": "bc05b256",
   "metadata": {},
   "outputs": [],
   "source": [
    "# Dockerfile for ETL + ML pipeline\n",
    "Dockerfile = '''\n",
    "FROM python:3.10-slim\n",
    "WORKDIR /app\n",
    "COPY . /app\n",
    "RUN pip install -r requirements.txt\n",
    "CMD [\"python3\", \"etl.py\"]\n",
    "'''\n",
    "print(Dockerfile)"
   ]
  }
 ],
 "metadata": {},
 "nbformat": 4,
 "nbformat_minor": 5
}