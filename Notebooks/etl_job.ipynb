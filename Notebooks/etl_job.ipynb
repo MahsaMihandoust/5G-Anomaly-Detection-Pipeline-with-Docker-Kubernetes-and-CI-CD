{
 "cells": [
  {
   "cell_type": "code",
   "source": [
    "from pyspark.sql import SparkSession\n",
    "from pyspark.sql.functions import col, when\n",
    "\n",
    "spark = SparkSession.builder.appName(\"5G_ETL\").getOrCreate()\n",
    "df = spark.read.csv(\"s3a://your-bucket-name/raw/streamed_logs.csv\", header=True, inferSchema=True)\n",
    "\n",
    "df_clean = df.dropna()\n",
    "df_transformed = df_clean.withColumn(\"SINR_Category\", when(col(\"SINR\") > 20, \"Good\").otherwise(\"Poor\"))\n",
    "\n",
    "df_transformed.write.mode(\"overwrite\").parquet(\"s3a://your-bucket-name/clean/kpis_cleaned.parquet\")"
   ],
   "metadata": {},
   "execution_count": null,
   "outputs": []
  }
 ],
 "metadata": {},
 "nbformat": 4,
 "nbformat_minor": 2
}