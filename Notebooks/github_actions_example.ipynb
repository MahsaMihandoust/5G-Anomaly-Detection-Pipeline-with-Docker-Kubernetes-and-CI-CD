{
 "cells": [
  {
   "cell_type": "code",
   "execution_count": null,
   "id": "4fb1f318",
   "metadata": {},
   "outputs": [],
   "source": [
    "# GitHub Actions CI/CD YAML\n",
    "github_actions = '''\n",
    "name: CI Pipeline\n",
    "\n",
    "on:\n",
    "  push:\n",
    "    branches: [ main ]\n",
    "\n",
    "jobs:\n",
    "  build-and-deploy:\n",
    "    runs-on: ubuntu-latest\n",
    "    steps:\n",
    "    - uses: actions/checkout@v2\n",
    "    - name: Set up Python\n",
    "      uses: actions/setup-python@v2\n",
    "      with:\n",
    "        python-version: '3.10'\n",
    "    - name: Install dependencies\n",
    "      run: pip install -r requirements.txt\n",
    "    - name: Run Tests\n",
    "      run: python -m unittest discover tests\n",
    "'''\n",
    "print(github_actions)"
   ]
  }
 ],
 "metadata": {},
 "nbformat": 4,
 "nbformat_minor": 5
}