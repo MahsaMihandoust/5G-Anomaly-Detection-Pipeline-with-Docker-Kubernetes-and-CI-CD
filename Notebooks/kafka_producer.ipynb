{
 "cells": [
  {
   "cell_type": "code",
   "source": [
    "import time\n",
    "import pandas as pd\n",
    "from kafka import KafkaProducer\n",
    "import json\n",
    "\n",
    "producer = KafkaProducer(\n",
    "    bootstrap_servers='localhost:9092',\n",
    "    value_serializer=lambda v: json.dumps(v).encode('utf-8')\n",
    ")\n",
    "\n",
    "df = pd.read_csv('5g_kpis_sample.csv')\n",
    "for _, row in df.iterrows():\n",
    "    producer.send('5g_kpi_topic', value=row.to_dict())\n",
    "    time.sleep(0.5)"
   ],
   "metadata": {},
   "execution_count": null,
   "outputs": []
  }
 ],
 "metadata": {},
 "nbformat": 4,
 "nbformat_minor": 2
}
